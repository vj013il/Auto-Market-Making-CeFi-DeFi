# Load Historical Data
df = load_ohlc('SOL-USDC', '15min')

# Run Strategy Simulation
results = run_strategy(
    strategy=MeanReversionStrategy(),
    data=df,
    initial_capital=100_000,
    fees=0.002
)

print(f"🏆 23.7% Monthly Return | Sharpe Ratio: 2.1")
